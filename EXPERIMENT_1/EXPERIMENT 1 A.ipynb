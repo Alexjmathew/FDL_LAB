{
  "cells": [
    {
      "cell_type": "markdown",
      "source": [
        "### **Alex j Mathew **"
      ],
      "metadata": {
        "id": "EEBj6wtIOaXt"
      },
      "id": "EEBj6wtIOaXt"
    },
    {
      "cell_type": "markdown",
      "id": "7902ab93-b50c-47a2-bc42-7225ab97fa50",
      "metadata": {
        "id": "7902ab93-b50c-47a2-bc42-7225ab97fa50"
      },
      "source": [
        "QUES 1Create a vector, scalar, matrix and tensor with values\n",
        "of your choice using tf.constant().\n",
        "\n",
        "\n"
      ]
    },
    {
      "cell_type": "code",
      "execution_count": null,
      "id": "03bf1a19-9fa6-4f84-b9e1-ace9fef4ec6d",
      "metadata": {
        "id": "03bf1a19-9fa6-4f84-b9e1-ace9fef4ec6d",
        "outputId": "508323c6-86c6-42db-ed86-b49fbf4657bf"
      },
      "outputs": [
        {
          "name": "stdout",
          "output_type": "stream",
          "text": [
            "Scalar Tensor:  tf.Tensor(5, shape=(), dtype=int32)\n",
            "Vector Tensor:  tf.Tensor([1 2 3 4 5], shape=(5,), dtype=int32)\n",
            "Matrix Tensor:  tf.Tensor(\n",
            "[[1 2 3]\n",
            " [4 5 6]\n",
            " [7 8 9]], shape=(3, 3), dtype=int32)\n",
            "3D Tensor:  tf.Tensor(\n",
            "[[[1 2]\n",
            "  [3 4]]\n",
            "\n",
            " [[5 6]\n",
            "  [7 8]]], shape=(2, 2, 2), dtype=int32)\n"
          ]
        }
      ],
      "source": [
        "# QUES 1\n",
        "import tensorflow as tf\n",
        "\n",
        "\n",
        "s = tf.constant(5)\n",
        "\n",
        "\n",
        "v = tf.constant([1, 2, 3, 4, 5])\n",
        "\n",
        "\n",
        "m=tf.constant([[1, 2, 3], [4, 5, 6], [7, 8, 9]])\n",
        "\n",
        "\n",
        "tensor= tf.constant([[[1, 2], [3, 4]], [[5, 6], [7, 8]]])\n",
        "\n",
        "\n",
        "print(\"Scalar Tensor: \", s)\n",
        "print(\"Vector Tensor: \", v)\n",
        "print(\"Matrix Tensor: \", m)\n",
        "print(\"3D Tensor: \", tensor)\n"
      ]
    },
    {
      "cell_type": "code",
      "execution_count": null,
      "id": "9fc2dd2a-2cc8-4826-954a-043658fa217f",
      "metadata": {
        "id": "9fc2dd2a-2cc8-4826-954a-043658fa217f",
        "outputId": "7153aea1-ce01-4ba5-9a3f-572888e10291"
      },
      "outputs": [
        {
          "name": "stdout",
          "output_type": "stream",
          "text": [
            "Scalar Tensor:  tf.Tensor(5, shape=(), dtype=int32)\n",
            "Vector Tensor:  tf.Tensor([1 2 3 4 5], shape=(5,), dtype=int32)\n",
            "Matrix Tensor:  tf.Tensor(\n",
            "[[1 2 3]\n",
            " [4 5 6]\n",
            " [7 8 9]], shape=(3, 3), dtype=int32)\n",
            "3D Tensor:  tf.Tensor(\n",
            "[[[1 2]\n",
            "  [3 4]]\n",
            "\n",
            " [[5 6]\n",
            "  [7 8]]], shape=(2, 2, 2), dtype=int32)\n"
          ]
        }
      ],
      "source": [
        "import tensorflow as tf\n",
        "\n",
        "\n",
        "s = tf.constant(5)\n",
        "\n",
        "\n",
        "v = tf.constant([1, 2, 3, 4, 5])\n",
        "\n",
        "\n",
        "m=tf.constant([[1, 2, 3], [4, 5, 6], [7, 8, 9]])\n",
        "\n",
        "\n",
        "tensor= tf.constant([[[1, 2], [3, 4]], [[5, 6], [7, 8]]])\n",
        "\n",
        "\n",
        "print(\"Scalar Tensor: \", s)\n",
        "print(\"Vector Tensor: \", v)\n",
        "print(\"Matrix Tensor: \", m)\n",
        "print(\"3D Tensor: \", tensor)\n"
      ]
    },
    {
      "cell_type": "markdown",
      "id": "68e1bb2f-2386-459b-857f-4c4e7e71e477",
      "metadata": {
        "id": "68e1bb2f-2386-459b-857f-4c4e7e71e477"
      },
      "source": [
        "QUES 2 Find the shape, rank and size of the tensors (which you created for Q1)."
      ]
    },
    {
      "cell_type": "code",
      "execution_count": null,
      "id": "014dc860-84ad-412b-9755-9fb5a2e50b95",
      "metadata": {
        "id": "014dc860-84ad-412b-9755-9fb5a2e50b95"
      },
      "outputs": [],
      "source": [
        "I = tf.shape(tensor)"
      ]
    },
    {
      "cell_type": "code",
      "execution_count": null,
      "id": "ac43cccc-6f9d-40db-8b80-8de0d360b7de",
      "metadata": {
        "id": "ac43cccc-6f9d-40db-8b80-8de0d360b7de",
        "outputId": "8bcfdb91-652c-4cf1-b530-6603f16473e1"
      },
      "outputs": [
        {
          "name": "stdout",
          "output_type": "stream",
          "text": [
            "tf.Tensor([2 2 2], shape=(3,), dtype=int32)\n"
          ]
        }
      ],
      "source": [
        "print(I)"
      ]
    },
    {
      "cell_type": "code",
      "execution_count": null,
      "id": "a2959e97-6a30-4ab8-83f5-38f069e3517e",
      "metadata": {
        "id": "a2959e97-6a30-4ab8-83f5-38f069e3517e",
        "outputId": "f229a4a0-e553-4566-d1b2-861e46edb5a9"
      },
      "outputs": [
        {
          "name": "stdout",
          "output_type": "stream",
          "text": [
            "tf.Tensor(3, shape=(), dtype=int32)\n"
          ]
        }
      ],
      "source": [
        "H = tf.rank(tensor)\n",
        "print(H)"
      ]
    },
    {
      "cell_type": "code",
      "execution_count": null,
      "id": "057e6718-2d04-43e1-a73a-fc1642c04d5a",
      "metadata": {
        "id": "057e6718-2d04-43e1-a73a-fc1642c04d5a",
        "outputId": "634bc06f-fb85-48f6-8be7-4e2b95426ccf"
      },
      "outputs": [
        {
          "name": "stdout",
          "output_type": "stream",
          "text": [
            "tf.Tensor(8, shape=(), dtype=int32)\n"
          ]
        }
      ],
      "source": [
        "R = tf.size(tensor)\n",
        "print(R)"
      ]
    },
    {
      "cell_type": "markdown",
      "id": "25e27f23-5103-4a16-901f-56efaf542e78",
      "metadata": {
        "id": "25e27f23-5103-4a16-901f-56efaf542e78"
      },
      "source": [
        "QUES 3 Create two tensors containing random values between 0 and 1 with\n",
        "shape [5, 300]\n"
      ]
    },
    {
      "cell_type": "code",
      "execution_count": null,
      "id": "7fde8bf1-20a4-4f69-b369-346db62d6da5",
      "metadata": {
        "id": "7fde8bf1-20a4-4f69-b369-346db62d6da5",
        "outputId": "30c53c5f-d0c7-467e-d261-aff57dfdf11f"
      },
      "outputs": [
        {
          "name": "stdout",
          "output_type": "stream",
          "text": [
            "Tensor 1: \n",
            " tf.Tensor(\n",
            "[[0.26638186 0.28270602 0.6888238  ... 0.16998017 0.6884986  0.10926259]\n",
            " [0.7541386  0.612471   0.54233456 ... 0.21906137 0.82450485 0.4705565 ]\n",
            " [0.3820045  0.37195933 0.56536615 ... 0.82532465 0.94661474 0.6522052 ]\n",
            " [0.6007291  0.90065587 0.7932441  ... 0.58059657 0.47393143 0.5465802 ]\n",
            " [0.9819292  0.7856693  0.35116625 ... 0.417328   0.3448149  0.7870507 ]], shape=(5, 300), dtype=float32)\n",
            "\n",
            "Tensor 2: \n",
            " tf.Tensor(\n",
            "[[0.6635498  0.4247818  0.50207484 ... 0.05945182 0.6485356  0.7591276 ]\n",
            " [0.9591149  0.57196105 0.33813584 ... 0.75283206 0.4195181  0.5201932 ]\n",
            " [0.00780439 0.6961956  0.4710952  ... 0.8399776  0.10442424 0.3403983 ]\n",
            " [0.01572311 0.7447064  0.89348996 ... 0.974445   0.74095094 0.78190863]\n",
            " [0.09189475 0.8967838  0.05941379 ... 0.50008464 0.41920233 0.25890398]], shape=(5, 300), dtype=float32)\n"
          ]
        }
      ],
      "source": [
        "#QUESTION 3\n",
        "tensor_1 = tf.random.uniform(shape=[5, 300], minval=0, maxval=1, dtype=tf.float32)\n",
        "tensor_2 = tf.random.uniform(shape=[5, 300], minval=0, maxval=1, dtype=tf.float32)\n",
        "\n",
        "\n",
        "print(\"Tensor 1: \\n\", tensor_1)\n",
        "print(\"\\nTensor 2: \\n\", tensor_2)"
      ]
    },
    {
      "cell_type": "markdown",
      "id": "ff7782f7-2c96-44e9-b357-53927398f941",
      "metadata": {
        "id": "ff7782f7-2c96-44e9-b357-53927398f941"
      },
      "source": [
        "QUES 4 Multiply the two tensors (which you created for Question 3) using matrix\n",
        "multiplication\n"
      ]
    },
    {
      "cell_type": "code",
      "execution_count": null,
      "id": "054ef962-b08d-432a-9cff-2096eeedea2d",
      "metadata": {
        "id": "054ef962-b08d-432a-9cff-2096eeedea2d"
      },
      "outputs": [],
      "source": [
        "result = tf.multiply(tensor_1, tensor_2)"
      ]
    },
    {
      "cell_type": "code",
      "execution_count": null,
      "id": "3dd02faa-0b11-40a8-86c6-2837b235072e",
      "metadata": {
        "id": "3dd02faa-0b11-40a8-86c6-2837b235072e",
        "outputId": "75a9f85c-07a0-4406-f109-61d098046ef1"
      },
      "outputs": [
        {
          "name": "stdout",
          "output_type": "stream",
          "text": [
            "tf.Tensor(\n",
            "[[0.17675762 0.12008838 0.3458411  ... 0.01010563 0.44651586 0.08294424]\n",
            " [0.7233056  0.35030955 0.18338275 ... 0.16491643 0.34589472 0.2447803 ]\n",
            " [0.00298131 0.25895646 0.26634127 ... 0.69325423 0.09884952 0.22200955]\n",
            " [0.00944533 0.67072415 0.7087557  ... 0.5657594  0.35115993 0.42737576]\n",
            " [0.09023413 0.70457554 0.02086412 ... 0.20869932 0.14454721 0.20377056]], shape=(5, 300), dtype=float32)\n"
          ]
        }
      ],
      "source": [
        "print(result)"
      ]
    },
    {
      "cell_type": "markdown",
      "source": [
        "QUES 5 Multiply the two tensors (which you created for Question 3) using dot product"
      ],
      "metadata": {
        "id": "IRgl7VrIsT4U"
      },
      "id": "IRgl7VrIsT4U"
    },
    {
      "cell_type": "code",
      "execution_count": null,
      "id": "5ec6c142-d054-487e-8906-0aca5355d17e",
      "metadata": {
        "id": "5ec6c142-d054-487e-8906-0aca5355d17e",
        "outputId": "73200c40-d384-434e-a9a7-7c7051f46350"
      },
      "outputs": [
        {
          "name": "stdout",
          "output_type": "stream",
          "text": [
            "1. Matrix multiplication result:\n",
            " [[19. 22.]\n",
            " [43. 50.]]\n"
          ]
        }
      ],
      "source": [
        "tensorA1 = tf.constant([[1, 2], [3, 4]], dtype=tf.float32)\n",
        "tensorA2 = tf.constant([[5, 6], [7, 8]], dtype=tf.float32)\n",
        "matrix_mult_result = tf.matmul(tensorA1, tensorA2)\n",
        "print(\"1. Matrix multiplication result:\\n\", matrix_mult_result.numpy())"
      ]
    },
    {
      "cell_type": "markdown",
      "id": "a6ce9e59-2b4f-4eae-951c-7f074e917503",
      "metadata": {
        "id": "a6ce9e59-2b4f-4eae-951c-7f074e917503"
      },
      "source": [
        " QUES 6 Create a tensor with random values between 0 and 1 with shape [224, 224,\n",
        "3].\n"
      ]
    },
    {
      "cell_type": "code",
      "execution_count": null,
      "id": "3c2d6bc2-8b10-490d-ae51-f95873902ecf",
      "metadata": {
        "id": "3c2d6bc2-8b10-490d-ae51-f95873902ecf",
        "outputId": "6d8ee762-b830-44ad-a9b0-c4438f3fe160"
      },
      "outputs": [
        {
          "name": "stdout",
          "output_type": "stream",
          "text": [
            "tf.Tensor(\n",
            "[[[0.43727446 0.49724996 0.34230995]\n",
            "  [0.7032044  0.44627082 0.23632753]\n",
            "  [0.41069436 0.5518471  0.5311005 ]\n",
            "  ...\n",
            "  [0.2473135  0.9759344  0.8723117 ]\n",
            "  [0.8761344  0.10454488 0.17329621]\n",
            "  [0.69281197 0.23285842 0.40725684]]\n",
            "\n",
            " [[0.8949959  0.05824518 0.61982274]\n",
            "  [0.18255258 0.93295276 0.37208474]\n",
            "  [0.78520215 0.9482039  0.7944133 ]\n",
            "  ...\n",
            "  [0.88372886 0.19631183 0.58456194]\n",
            "  [0.9073367  0.49973452 0.6136838 ]\n",
            "  [0.5719776  0.665311   0.78745854]]\n",
            "\n",
            " [[0.52462685 0.8282449  0.33815598]\n",
            "  [0.46460176 0.63227    0.26721454]\n",
            "  [0.00146186 0.08775008 0.6289339 ]\n",
            "  ...\n",
            "  [0.37731278 0.7104194  0.68720055]\n",
            "  [0.4345026  0.31099582 0.6285019 ]\n",
            "  [0.93367136 0.2841879  0.60645616]]\n",
            "\n",
            " ...\n",
            "\n",
            " [[0.9245628  0.20932293 0.28510022]\n",
            "  [0.97541153 0.9028233  0.8741263 ]\n",
            "  [0.15312839 0.3311094  0.91470695]\n",
            "  ...\n",
            "  [0.619377   0.33646905 0.9895363 ]\n",
            "  [0.87774944 0.6638411  0.04213166]\n",
            "  [0.30935764 0.7791246  0.17360246]]\n",
            "\n",
            " [[0.337983   0.18774116 0.05735314]\n",
            "  [0.563346   0.56882036 0.4360181 ]\n",
            "  [0.16075182 0.4595796  0.5965686 ]\n",
            "  ...\n",
            "  [0.07005978 0.95823634 0.86334693]\n",
            "  [0.9666908  0.00880182 0.9382857 ]\n",
            "  [0.8589946  0.22063148 0.36085248]]\n",
            "\n",
            " [[0.7367592  0.7929281  0.7517905 ]\n",
            "  [0.6167127  0.09381425 0.89927685]\n",
            "  [0.57289374 0.8723086  0.31711316]\n",
            "  ...\n",
            "  [0.87421846 0.64962554 0.39563215]\n",
            "  [0.59437776 0.4906242  0.10969353]\n",
            "  [0.71718025 0.966779   0.9935961 ]]], shape=(224, 224, 3), dtype=float32)\n"
          ]
        }
      ],
      "source": [
        "import tensorflow as tf\n",
        "\n",
        "tensoo = tf.random.uniform(shape=[224, 224, 3], minval=0, maxval=1, dtype=tf.float32)\n",
        "\n",
        "print(tensoro)"
      ]
    },
    {
      "cell_type": "markdown",
      "id": "cf594a1a-7e6c-44ad-981a-38a3eed1d6ea",
      "metadata": {
        "id": "cf594a1a-7e6c-44ad-981a-38a3eed1d6ea"
      },
      "source": [
        "  QUES 7 find the min and max values of the tensors (Question 6)"
      ]
    },
    {
      "cell_type": "code",
      "execution_count": null,
      "id": "57a28bd2-1cd4-4777-af14-5c975153522c",
      "metadata": {
        "id": "57a28bd2-1cd4-4777-af14-5c975153522c",
        "outputId": "7461facd-77b6-4edf-add1-8b1886415069"
      },
      "outputs": [
        {
          "name": "stdout",
          "output_type": "stream",
          "text": [
            "tf.Tensor(1, shape=(), dtype=int32)\n",
            "tf.Tensor(8, shape=(), dtype=int32)\n"
          ]
        }
      ],
      "source": [
        "min_value = tf.reduce_min(tensor)\n",
        "max_value = tf.reduce_max(tensor)\n",
        "print(min_value)\n",
        "print(max_value)"
      ]
    },
    {
      "cell_type": "markdown",
      "id": "c20fa19a-1e8a-4822-a83b-2c27878203db",
      "metadata": {
        "id": "c20fa19a-1e8a-4822-a83b-2c27878203db"
      },
      "source": [
        "QUES 8 Created a tensor with random values of shape [1, 224, 224, 3] then\n",
        "squeeze it to change the shape to [224, 224, 3].\n"
      ]
    },
    {
      "cell_type": "code",
      "execution_count": null,
      "id": "0c30bad9-4a33-43c3-8dd0-891ec5ef34e4",
      "metadata": {
        "id": "0c30bad9-4a33-43c3-8dd0-891ec5ef34e4"
      },
      "outputs": [],
      "source": [
        "\n",
        "\n",
        "\n",
        "tensor15 = tf.random.uniform(shape=[1, 224, 224, 3], minval=0, maxval=1, dtype=tf.float32)\n",
        "\n",
        "\n",
        "\n",
        "squeezed_tensor = tf.squeeze(tensor15, axis=0)\n",
        "\n",
        "\n",
        "print(\"Squeezed tensor shape\", squeezed_tensor.shape)\n",
        "\n"
      ]
    },
    {
      "cell_type": "markdown",
      "source": [],
      "metadata": {
        "id": "eVu5w24YOYrm"
      },
      "id": "eVu5w24YOYrm"
    },
    {
      "cell_type": "markdown",
      "source": [
        "Ques 9 Create a tensor with shape [10] using your own choice of values, then find the index which has the maximum value."
      ],
      "metadata": {
        "id": "2IbUCxvUOGs0"
      },
      "id": "2IbUCxvUOGs0"
    },
    {
      "cell_type": "code",
      "execution_count": null,
      "id": "a516021e-c496-4324-986f-b69cd08f46a6",
      "metadata": {
        "id": "a516021e-c496-4324-986f-b69cd08f46a6",
        "outputId": "1845f915-d2e7-4a93-a567-af2176df41ff"
      },
      "outputs": [
        {
          "name": "stdout",
          "output_type": "stream",
          "text": [
            "Tensor: tf.Tensor([ 1.  3.  5.  7.  9.  2.  4.  6.  8. 10.], shape=(10,), dtype=float32)\n",
            "Index tf.Tensor(9, shape=(), dtype=int64)\n"
          ]
        }
      ],
      "source": [
        "tensorH = tf.constant([1, 3, 5, 7, 9, 2, 4, 6, 8, 10], dtype=tf.float32)\n",
        "\n",
        "\n",
        "print(\"Tensor:\", tensor)\n",
        "\n",
        "\n",
        "max_index = tf.argmax(tensor)\n",
        "\n",
        "\n",
        "print(\"Index\", max_index)"
      ]
    },
    {
      "cell_type": "markdown",
      "id": "c3053875-882a-4a15-97d4-7190b13567a8",
      "metadata": {
        "id": "c3053875-882a-4a15-97d4-7190b13567a8"
      },
      "source": [
        " QUESTION 10 One-hot encode the tensor you created in 9"
      ]
    },
    {
      "cell_type": "code",
      "execution_count": null,
      "id": "be82585a-7685-4747-9f80-edb899344d47",
      "metadata": {
        "id": "be82585a-7685-4747-9f80-edb899344d47",
        "outputId": "cf2ca23d-bffa-43cc-9e66-0fb6625ba32d"
      },
      "outputs": [
        {
          "name": "stdout",
          "output_type": "stream",
          "text": [
            "Tensor: tf.Tensor([ 1  3  5  7  9  2  4  6  8 10], shape=(10,), dtype=int32)\n",
            "Index of maximum value: 9\n",
            "One-hot encoded tensor:\n",
            " [[0. 1. 0. 0. 0. 0. 0. 0. 0. 0. 0.]\n",
            " [0. 0. 0. 1. 0. 0. 0. 0. 0. 0. 0.]\n",
            " [0. 0. 0. 0. 0. 1. 0. 0. 0. 0. 0.]\n",
            " [0. 0. 0. 0. 0. 0. 0. 1. 0. 0. 0.]\n",
            " [0. 0. 0. 0. 0. 0. 0. 0. 0. 1. 0.]\n",
            " [0. 0. 1. 0. 0. 0. 0. 0. 0. 0. 0.]\n",
            " [0. 0. 0. 0. 1. 0. 0. 0. 0. 0. 0.]\n",
            " [0. 0. 0. 0. 0. 0. 1. 0. 0. 0. 0.]\n",
            " [0. 0. 0. 0. 0. 0. 0. 0. 1. 0. 0.]\n",
            " [0. 0. 0. 0. 0. 0. 0. 0. 0. 0. 1.]]\n"
          ]
        }
      ],
      "source": [
        "\n",
        "tensorL = tf.constant([1, 3, 5, 7, 9, 2, 4, 6, 8, 10], dtype=tf.int32)\n",
        "\n",
        "\n",
        "print(\"Tensor:\", tensor)\n",
        "\n",
        "\n",
        "max_index = tf.argmax(tensor)\n",
        "\n",
        "print(\"Index of maximum value:\", max_index.numpy())\n",
        "\n",
        "\n",
        "depth = tf.reduce_max(tensor) + 1\n",
        "one_hot_tensor = tf.one_hot(tensor, depth=depth)\n",
        "\n",
        "print(\"One-hot encoded tensor:\\n\", one_hot_tensor.numpy())"
      ]
    },
    {
      "cell_type": "code",
      "execution_count": null,
      "id": "bc665858-be89-4704-a02a-46ca2f1d6d7d",
      "metadata": {
        "id": "bc665858-be89-4704-a02a-46ca2f1d6d7d"
      },
      "outputs": [],
      "source": []
    }
  ],
  "metadata": {
    "kernelspec": {
      "display_name": "Python 3 (ipykernel)",
      "language": "python",
      "name": "python3"
    },
    "language_info": {
      "codemirror_mode": {
        "name": "ipython",
        "version": 3
      },
      "file_extension": ".py",
      "mimetype": "text/x-python",
      "name": "python",
      "nbconvert_exporter": "python",
      "pygments_lexer": "ipython3",
      "version": "3.10.12"
    },
    "colab": {
      "provenance": []
    }
  },
  "nbformat": 4,
  "nbformat_minor": 5
}