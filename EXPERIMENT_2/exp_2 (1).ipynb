{
  "nbformat": 4,
  "nbformat_minor": 0,
  "metadata": {
    "colab": {
      "provenance": []
    },
    "kernelspec": {
      "name": "python3",
      "display_name": "Python 3"
    },
    "language_info": {
      "name": "python"
    }
  },
  "cells": [
    {
      "cell_type": "markdown",
      "source": [
        "**EXPERIMENT 2**\n",
        "Removing outliers using two method: Z-score and IQR methods"
      ],
      "metadata": {
        "id": "2aaFQY7I9_nt"
      }
    },
    {
      "cell_type": "markdown",
      "source": [
        "Alex J Mathew"
      ],
      "metadata": {
        "id": "EMmtSWo--MgZ"
      }
    },
    {
      "cell_type": "code",
      "execution_count": null,
      "metadata": {
        "colab": {
          "base_uri": "https://localhost:8080/"
        },
        "id": "PXJdXqql9CBq",
        "outputId": "ac1f2357-4fa5-46b9-f80e-430c5d4486ff"
      },
      "outputs": [
        {
          "output_type": "stream",
          "name": "stdout",
          "text": [
            "Dataset: [2, 4, 5, 6, 12, 15, 100]\n",
            "\n",
            "Z-score Method:\n",
            "Z-scores: [np.float64(-0.57), np.float64(-0.51), np.float64(-0.48), np.float64(-0.45), np.float64(-0.26), np.float64(-0.17), np.float64(2.43)]\n",
            "Outliers (Z-score > 3): []\n",
            "\n",
            "IQR Method:\n",
            "Q1: 4.5, Q3: 13.5, IQR: 9.0\n",
            "Lower Bound: -9.0, Upper Bound: 27.0\n",
            "Outliers (IQR): [100]\n"
          ]
        }
      ],
      "source": [
        "import numpy as np\n",
        "import matplotlib.pyplot as plt\n",
        "\n",
        "data = [2, 4, 5, 6, 12, 15, 100]\n",
        "\n",
        "def find_outliers_zscore(data, threshold=3):\n",
        "    mean = np.mean(data)\n",
        "    std = np.std(data)\n",
        "    z_scores = [(x - mean) / std for x in data]\n",
        "    outliers = [data[i] for i, z in enumerate(z_scores) if abs(z) > threshold]\n",
        "    return outliers, z_scores\n",
        "\n",
        "def find_outliers_iqr(data):\n",
        "    q1 = np.percentile(data, 25)\n",
        "    q3 = np.percentile(data, 75)\n",
        "    iqr = q3 - q1\n",
        "    lower_bound = q1 - 1.5 * iqr\n",
        "    upper_bound = q3 + 1.5 * iqr\n",
        "    outliers = [x for x in data if x < lower_bound or x > upper_bound]\n",
        "    return outliers, lower_bound, upper_bound\n",
        "\n",
        "zscore_outliers, z_scores = find_outliers_zscore(data, threshold=3)\n",
        "iqr_outliers, lower_bound, upper_bound = find_outliers_iqr(data)\n",
        "\n",
        "\n",
        "print(\"Dataset:\", data)\n",
        "print(\"\\nZ-score Method:\")\n",
        "print(\"Z-scores:\", [round(z, 2) for z in z_scores])\n",
        "print(\"Outliers (Z-score > 3):\", zscore_outliers)\n",
        "print(\"\\nIQR Method:\")\n",
        "print(f\"Q1: {np.percentile(data, 25)}, Q3: {np.percentile(data, 75)}, IQR: {np.percentile(data, 75) - np.percentile(data, 25)}\")\n",
        "print(f\"Lower Bound: {lower_bound}, Upper Bound: {upper_bound}\")\n",
        "print(\"Outliers (IQR):\", iqr_outliers)"
      ]
    },
    {
      "cell_type": "code",
      "source": [
        "plt.boxplot(data)\n",
        "plt.title(\"Box Plot of Dataset with Outliers\")\n",
        "plt.ylabel(\"Values\")"
      ],
      "metadata": {
        "colab": {
          "base_uri": "https://localhost:8080/",
          "height": 469
        },
        "id": "n0agxeBN9T96",
        "outputId": "9b228107-1ea7-4f6c-a759-891707fcd818"
      },
      "execution_count": null,
      "outputs": [
        {
          "output_type": "execute_result",
          "data": {
            "text/plain": [
              "Text(0, 0.5, 'Values')"
            ]
          },
          "metadata": {},
          "execution_count": 5
        },
        {
          "output_type": "display_data",
          "data": {
            "text/plain": [
              "<Figure size 640x480 with 1 Axes>"
            ],
            "image/png": "[encoded data removed]"
          },
          "metadata": {}
        }
      ]
    },
    {
      "cell_type": "markdown",
      "source": [],
      "metadata": {
        "id": "W4ZgA2gx99al"
      }
    }
  ]
}